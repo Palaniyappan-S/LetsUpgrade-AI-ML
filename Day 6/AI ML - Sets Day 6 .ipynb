{
 "cells": [
  {
   "cell_type": "markdown",
   "metadata": {},
   "source": [
    "# Sets \n",
    "\n",
    "Sets are collection of items that are similar to other data types in python such as list,tuples and dictionaries which are iterable. Sets handle the data such that while printing the sets will eliminate the existence of duplicate items if any. "
   ]
  },
  {
   "cell_type": "code",
   "execution_count": 21,
   "metadata": {},
   "outputs": [
    {
     "name": "stdout",
     "output_type": "stream",
     "text": [
      "{1, 2, 3, 4, 5}\n",
      "{8, 9, 7}\n",
      "{1, 3, 4, 5}\n",
      "False\n",
      "False\n",
      "1\n",
      "The length of the set a is :  3\n",
      "{4, 5}\n",
      "{1, 2, 4, 7, 8, 9}\n",
      "{1, 2, 4}\n",
      "{1, 2, 4, 5, 7, 8, 9}\n"
     ]
    }
   ],
   "source": [
    "# Set pre-available functions\n",
    "a={1,2,3,4}\n",
    "b={7,8,9}\n",
    "c={1,2,4}\n",
    "a.add(5)\n",
    "print(a)\n",
    "a.copy()\n",
    "a.difference_update(b)\n",
    "print(b)\n",
    "a.discard(2)\n",
    "print(a)\n",
    "a.intersection(c)\n",
    "print(a.issubset(c))\n",
    "print(c.issuperset(a))\n",
    "print(a.pop())\n",
    "x=len(a)\n",
    "print(\"The length of the set a is : \",x)\n",
    "a.remove(3)\n",
    "print(a)\n",
    "print(b.symmetric_difference(c))\n",
    "b.symmetric_difference_update(c)\n",
    "print(c)\n",
    "print(a.union(b))"
   ]
  }
 ],
 "metadata": {
  "kernelspec": {
   "display_name": "Python 3",
   "language": "python",
   "name": "python3"
  },
  "language_info": {
   "codemirror_mode": {
    "name": "ipython",
    "version": 3
   },
   "file_extension": ".py",
   "mimetype": "text/x-python",
   "name": "python",
   "nbconvert_exporter": "python",
   "pygments_lexer": "ipython3",
   "version": "3.7.6"
  }
 },
 "nbformat": 4,
 "nbformat_minor": 4
}
