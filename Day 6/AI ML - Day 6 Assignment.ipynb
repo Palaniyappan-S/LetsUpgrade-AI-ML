{
 "cells": [
  {
   "cell_type": "code",
   "execution_count": 14,
   "metadata": {},
   "outputs": [
    {
     "name": "stdout",
     "output_type": "stream",
     "text": [
      "Enter the email: letsupgrade@yahoo.co.in\n",
      "yahoo\n"
     ]
    }
   ],
   "source": [
    "#Question 1: Print the company name from the email ID provided by the user\n",
    "a=str(input(\"Enter the email: \"))\n",
    "b=a.find(\"@\")\n",
    "c=a.find(\".\")\n",
    "d=a[b+1:c]\n",
    "print(d)"
   ]
  },
  {
   "cell_type": "code",
   "execution_count": 16,
   "metadata": {},
   "outputs": [
    {
     "name": "stdout",
     "output_type": "stream",
     "text": [
      "Enter comma sepearated inputs: without,hello,bag,world\n",
      "bag,hello,without,world,\n"
     ]
    }
   ],
   "source": [
    "#Question 2: Get comma seperated inputs and sort it alphabetically\n",
    "def listring(b):\n",
    "    str1=\"\"\n",
    "    for i in b:\n",
    "        str1+=i+\",\"\n",
    "    return str1\n",
    "\n",
    "a=str(input(\"Enter comma sepearated inputs: \"))\n",
    "b=a.split(\",\")\n",
    "b.sort()\n",
    "print(listring(b))"
   ]
  },
  {
   "cell_type": "code",
   "execution_count": 62,
   "metadata": {},
   "outputs": [
    {
     "name": "stdout",
     "output_type": "stream",
     "text": [
      "Enter the value n: 1 2 4 6 3 7\n",
      "5\n"
     ]
    }
   ],
   "source": [
    "#Question 4: From the range of n-1 numbers find the missing number (There isn't any duplicates)\n",
    "\n",
    "a=list(input(\"Enter the value n: \"))\n",
    "b=a.count(\" \")\n",
    "for i in range(b):\n",
    "    a.remove(\" \")\n",
    "a.sort()\n",
    "for j in range(0,len(a)):\n",
    "    a[j]=int(a[j])\n",
    "for j in a:\n",
    "    b=a[j+1]-a[j]\n",
    "    if(b!=1):\n",
    "        print(a[j]+1)\n",
    "        break"
   ]
  },
  {
   "cell_type": "code",
   "execution_count": 55,
   "metadata": {},
   "outputs": [
    {
     "name": "stdout",
     "output_type": "stream",
     "text": [
      "Enter the numbers 1 5 1 4 4 1 7\n",
      "1 4 5 7 "
     ]
    }
   ],
   "source": [
    "#Question 5: Remove the duplicate values from the list\n",
    "a=list(input(\"Enter the numbers \"))\n",
    "b=a.count(\" \")\n",
    "for i in range(b):\n",
    "    a.remove(\" \")\n",
    "a.sort()\n",
    "c=set(a)\n",
    "d=list(c)\n",
    "d.sort()\n",
    "for j in d:\n",
    "    print(int(j),end=\" \")"
   ]
  }
 ],
 "metadata": {
  "kernelspec": {
   "display_name": "Python 3",
   "language": "python",
   "name": "python3"
  },
  "language_info": {
   "codemirror_mode": {
    "name": "ipython",
    "version": 3
   },
   "file_extension": ".py",
   "mimetype": "text/x-python",
   "name": "python",
   "nbconvert_exporter": "python",
   "pygments_lexer": "ipython3",
   "version": "3.7.6"
  }
 },
 "nbformat": 4,
 "nbformat_minor": 4
}
