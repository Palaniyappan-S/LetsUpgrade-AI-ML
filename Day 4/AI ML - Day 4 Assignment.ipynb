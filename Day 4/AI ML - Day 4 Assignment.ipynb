{
 "cells": [
  {
   "cell_type": "code",
   "execution_count": 17,
   "metadata": {},
   "outputs": [
    {
     "name": "stdout",
     "output_type": "stream",
     "text": [
      "Enter the number 1: 5\n",
      "Enter the number 2: 6\n",
      "The division =  (0.8333333333333334+0j)\n",
      "The addition =  (11+0j)\n",
      "The multiplication =  (30+0j)\n",
      "The subtraction =  (-1+0j)\n"
     ]
    }
   ],
   "source": [
    "#Question 1: Research on feasible operands for complex numbers\n",
    "#The possible arithmetic operations are\n",
    "import math\n",
    "a=complex(input(\"Enter the number 1: \"))\n",
    "b=complex(input(\"Enter the number 2: \"))\n",
    "c=a/b\n",
    "d=a+b\n",
    "e=a*b\n",
    "f=a-b\n",
    "print(\"The division = \",c)\n",
    "print(\"The addition = \",d)\n",
    "print(\"The multiplication = \",e)\n",
    "print(\"The subtraction = \",f)"
   ]
  },
  {
   "cell_type": "code",
   "execution_count": 18,
   "metadata": {},
   "outputs": [
    {
     "ename": "TypeError",
     "evalue": "can't mod complex numbers.",
     "output_type": "error",
     "traceback": [
      "\u001b[1;31m---------------------------------------------------------------------------\u001b[0m",
      "\u001b[1;31mTypeError\u001b[0m                                 Traceback (most recent call last)",
      "\u001b[1;32m<ipython-input-18-80014691f157>\u001b[0m in \u001b[0;36m<module>\u001b[1;34m\u001b[0m\n\u001b[0;32m      1\u001b[0m \u001b[1;31m#The arithmetic operations not possible on complex data type are\u001b[0m\u001b[1;33m\u001b[0m\u001b[1;33m\u001b[0m\u001b[1;33m\u001b[0m\u001b[0m\n\u001b[0;32m      2\u001b[0m \u001b[1;31m# 1.) Modulo\u001b[0m\u001b[1;33m\u001b[0m\u001b[1;33m\u001b[0m\u001b[1;33m\u001b[0m\u001b[0m\n\u001b[1;32m----> 3\u001b[1;33m \u001b[0mg\u001b[0m\u001b[1;33m=\u001b[0m\u001b[0ma\u001b[0m\u001b[1;33m%\u001b[0m\u001b[0mb\u001b[0m\u001b[1;33m\u001b[0m\u001b[1;33m\u001b[0m\u001b[0m\n\u001b[0m\u001b[0;32m      4\u001b[0m \u001b[0mprint\u001b[0m\u001b[1;33m(\u001b[0m\u001b[0mg\u001b[0m\u001b[1;33m)\u001b[0m\u001b[1;33m\u001b[0m\u001b[1;33m\u001b[0m\u001b[0m\n",
      "\u001b[1;31mTypeError\u001b[0m: can't mod complex numbers."
     ]
    }
   ],
   "source": [
    "#The arithmetic operations not possible on complex data type are\n",
    "# 1.) Modulo\n",
    "g=a%b\n",
    "print(g)"
   ]
  },
  {
   "cell_type": "code",
   "execution_count": 19,
   "metadata": {},
   "outputs": [
    {
     "ename": "TypeError",
     "evalue": "can't convert complex to float",
     "output_type": "error",
     "traceback": [
      "\u001b[1;31m---------------------------------------------------------------------------\u001b[0m",
      "\u001b[1;31mTypeError\u001b[0m                                 Traceback (most recent call last)",
      "\u001b[1;32m<ipython-input-19-bb0b1df9ecf2>\u001b[0m in \u001b[0;36m<module>\u001b[1;34m\u001b[0m\n\u001b[0;32m      2\u001b[0m \u001b[1;32mimport\u001b[0m \u001b[0mmath\u001b[0m\u001b[1;33m\u001b[0m\u001b[1;33m\u001b[0m\u001b[0m\n\u001b[0;32m      3\u001b[0m \u001b[0mg\u001b[0m\u001b[1;33m=\u001b[0m\u001b[0ma\u001b[0m\u001b[1;33m/\u001b[0m\u001b[0mb\u001b[0m\u001b[1;33m\u001b[0m\u001b[1;33m\u001b[0m\u001b[0m\n\u001b[1;32m----> 4\u001b[1;33m \u001b[0mmath\u001b[0m\u001b[1;33m.\u001b[0m\u001b[0mfloor\u001b[0m\u001b[1;33m(\u001b[0m\u001b[0mg\u001b[0m\u001b[1;33m)\u001b[0m\u001b[1;33m\u001b[0m\u001b[1;33m\u001b[0m\u001b[0m\n\u001b[0m",
      "\u001b[1;31mTypeError\u001b[0m: can't convert complex to float"
     ]
    }
   ],
   "source": [
    "# 2.) Floor Division\n",
    "import math\n",
    "g=a/b\n",
    "math.floor(g)"
   ]
  },
  {
   "cell_type": "markdown",
   "metadata": {},
   "source": [
    "# Question 2 : *Research on Range Function and its parameters\n",
    "\n",
    "Range function is an explicitly designed function which generates a series of numbers starting from zero to the number one less to the one given as a paramter, since the start index is zero. For example,range(6) would generate the numbers from 0 to 5 because there are six number of digits from o to 5.\n",
    "\n",
    "# Ways of utilizing Range Function\n",
    "\n",
    "1.) *SINGLE ARGUMENT* - Range function can simply be used by giving a single number as a parameter.So it would generate numbers from zero to (End index-1)\n",
    "\n",
    "2.) *DUAL ARGUMENT* - Range function can be tweaked to start from a specific point rather than from zero and thus two arguments in the range function would mean it starts from starting index to the (end index-1)\n",
    "\n",
    "3.) *TRIPLE ARGUMENT* - Range function can also be used to generate numbers with a specific step increase of our choice which would mean that it accepts three arguments and start from the starting index and steps up the value of the last argument till the value less than the end index"
   ]
  },
  {
   "cell_type": "code",
   "execution_count": 26,
   "metadata": {},
   "outputs": [
    {
     "name": "stdout",
     "output_type": "stream",
     "text": [
      "Single argument example:\n",
      "0 1 2 3 4 \n",
      "Double argument example:\n",
      "1 2 3 4 \n",
      "Triple argument example:\n",
      "1 3 5 7 9 "
     ]
    }
   ],
   "source": [
    "a=range(5)\n",
    "print(\"Single argument example:\")\n",
    "for i in a:\n",
    "    print(i,end=\" \")\n",
    "print(\"\\nDouble argument example:\")\n",
    "b=range(1,5)\n",
    "for i in b:\n",
    "    print(i,end=\" \")\n",
    "print(\"\\nTriple argument example:\")\n",
    "c=range(1,10,2)\n",
    "for i in c:\n",
    "    print(i,end=\" \")"
   ]
  },
  {
   "cell_type": "code",
   "execution_count": 30,
   "metadata": {},
   "outputs": [
    {
     "name": "stdout",
     "output_type": "stream",
     "text": [
      "Enter the first number: 19\n",
      "Enter the second number: 6\n",
      "The difference is smaller and division is 3\n"
     ]
    }
   ],
   "source": [
    "#Question 3: Multiply Numbers if difference is greater than 25 else divide \n",
    "a=int(input(\"Enter the first number: \"))\n",
    "b=int(input(\"Enter the second number: \"))\n",
    "c=a-b\n",
    "if (c>25):\n",
    "    d=a*b\n",
    "    print(\"The Difference is greater and Product is\",d)\n",
    "else:\n",
    "    d=a/b\n",
    "    print(\"The difference is smaller and division is\",int(d))"
   ]
  },
  {
   "cell_type": "code",
   "execution_count": 31,
   "metadata": {},
   "outputs": [
    {
     "name": "stdout",
     "output_type": "stream",
     "text": [
      "2\n",
      "14\n",
      "34\n",
      "62\n",
      "98\n"
     ]
    }
   ],
   "source": [
    "#Question 4: List of elements Checked for divisble by 2 and result printed accordingly\n",
    "a=[1,2,3,4,5,6,7,8,9,10]\n",
    "for i in a:\n",
    "    if(i%2==0):\n",
    "        b=(i*i)-2\n",
    "        print(b)"
   ]
  },
  {
   "cell_type": "code",
   "execution_count": 39,
   "metadata": {},
   "outputs": [
    {
     "name": "stdout",
     "output_type": "stream",
     "text": [
      "15\n",
      "19\n",
      "25\n",
      "74\n",
      "20\n"
     ]
    }
   ],
   "source": [
    "#Question 5: Print all the elements in the list which are greater than 7 when its divided by 2\n",
    "a=[15,5,8,19,6,25,74,20,1,5]\n",
    "for i in a:\n",
    "    b=i/2\n",
    "    if(b>7):\n",
    "        print(int(i))"
   ]
  }
 ],
 "metadata": {
  "kernelspec": {
   "display_name": "Python 3",
   "language": "python",
   "name": "python3"
  },
  "language_info": {
   "codemirror_mode": {
    "name": "ipython",
    "version": 3
   },
   "file_extension": ".py",
   "mimetype": "text/x-python",
   "name": "python",
   "nbconvert_exporter": "python",
   "pygments_lexer": "ipython3",
   "version": "3.7.6"
  }
 },
 "nbformat": 4,
 "nbformat_minor": 4
}
