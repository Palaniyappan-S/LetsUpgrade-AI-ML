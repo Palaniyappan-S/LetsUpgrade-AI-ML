{
 "cells": [
  {
   "cell_type": "code",
   "execution_count": 8,
   "metadata": {},
   "outputs": [
    {
     "name": "stdout",
     "output_type": "stream",
     "text": [
      "Enter the first number4\n",
      "Enter the second number2\n",
      "(2+0j)\n"
     ]
    },
    {
     "data": {
      "text/plain": [
       "complex"
      ]
     },
     "execution_count": 8,
     "metadata": {},
     "output_type": "execute_result"
    }
   ],
   "source": [
    "#Question 1: Program to Subtract to two complex Numbers\n",
    "a=complex(input(\"Enter the first number\"))\n",
    "b=complex(input(\"Enter the second number\"))\n",
    "c=a-b\n",
    "print(c)\n",
    "type(c)"
   ]
  },
  {
   "cell_type": "code",
   "execution_count": 18,
   "metadata": {},
   "outputs": [
    {
     "name": "stdout",
     "output_type": "stream",
     "text": [
      "Enter the number 1296\n",
      "6.0\n"
     ]
    }
   ],
   "source": [
    "#Question 2: Program to find the fourth root of the number \n",
    "x=int(input(\"Enter the number \"))\n",
    "d=x**(1/4)\n",
    "print(float(d))"
   ]
  },
  {
   "cell_type": "code",
   "execution_count": 7,
   "metadata": {},
   "outputs": [
    {
     "name": "stdout",
     "output_type": "stream",
     "text": [
      "Enter the value of a: 10\n",
      "Enter the value of b: 12\n",
      "The Swapped values, a= 12  b= 10\n"
     ]
    }
   ],
   "source": [
    "#Question 3: Program to Swap numbers with the help of Temporary Variable\n",
    "a=int(input(\"Enter the value of a: \"))\n",
    "b=int(input(\"Enter the value of b: \"))\n",
    "temp=0\n",
    "temp=a\n",
    "a=b\n",
    "b=temp\n",
    "print(\"The Swapped values, a=\",a,\" b=\",b)"
   ]
  },
  {
   "cell_type": "code",
   "execution_count": 16,
   "metadata": {},
   "outputs": [
    {
     "name": "stdout",
     "output_type": "stream",
     "text": [
      "Enter the value of a: 5\n",
      "Enter the value of b: 6\n",
      "The Swapped values, a= 6  b= 5\n"
     ]
    }
   ],
   "source": [
    "#Question 4: Swapping two numbers without temporary variable\n",
    "a=int(input(\"Enter the value of a: \"))\n",
    "b=int(input(\"Enter the value of b: \"))\n",
    "a=a+b\n",
    "b=a-b\n",
    "a=a-b\n",
    "print(\"The Swapped values, a=\",a,\" b=\",b)"
   ]
  },
  {
   "cell_type": "code",
   "execution_count": 31,
   "metadata": {},
   "outputs": [
    {
     "name": "stdout",
     "output_type": "stream",
     "text": [
      "Enter the Fahrenheit value = 98\n",
      "The Celius value =  36.67 °c\n",
      "The Kelvin value =  309.82 k\n"
     ]
    }
   ],
   "source": [
    "#Question 5: Convert Fahrenheit Kelvin and Celsius Both\n",
    "a=int(input(\"Enter the Fahrenheit value = \"))\n",
    "b=(a-32)*(5/9)\n",
    "c=b+273.15\n",
    "print(\"The Celius value = \",'%.2f'%b,\"°c\")\n",
    "print(\"The Kelvin value = \",'%.2f'%c,\"k\")"
   ]
  },
  {
   "cell_type": "code",
   "execution_count": 41,
   "metadata": {},
   "outputs": [
    {
     "name": "stdout",
     "output_type": "stream",
     "text": [
      "<class 'int'>\n",
      "<class 'float'>\n",
      "<class 'str'>\n",
      "<class 'complex'>\n",
      "<class 'tuple'>\n",
      "<class 'list'>\n",
      "<class 'dict'>\n",
      "<class 'set'>\n",
      "<class 'bool'>\n"
     ]
    }
   ],
   "source": [
    "#Question 6: Data type demonstartion in Python3\n",
    "a=25\n",
    "print(type(a))\n",
    "b=25.5\n",
    "print(type(b))\n",
    "c=\"Hey\"\n",
    "print(type(c))\n",
    "d=4+6j\n",
    "print(type(d))\n",
    "e=(1,2,3)\n",
    "print(type(e))\n",
    "f=[1,2,3]\n",
    "print(type(f))\n",
    "g={1:\"Hi\",2:\"AI-ML\"}\n",
    "print(type(g))\n",
    "h={1,2,3}\n",
    "print(type(h))\n",
    "i=True\n",
    "print(type(i))"
   ]
  },
  {
   "cell_type": "markdown",
   "metadata": {},
   "source": [
    "#Question 7\n",
    "\n",
    "## Steps elucidated by Dr.Darshan sir on Github assignment and profile creation\n",
    "\n",
    "Step 1: Create a Github account from github.com which is analogous to a gmail account creation\n",
    "\n",
    "Step 2: After the account is created and verify with the mentioned email ID \n",
    "\n",
    "Step 3: Click on New option in the left of the home page to create a new repository and name it LetsUpgrade AI-ML\n",
    "\n",
    "Step 4: Description is given as assignments and none of the options are altered and create repository option is selected\n",
    "\n",
    "Step 5: Now the corressponding notebook from the respective environments are downloaded and named into that day's assignment           folder and uploaded into the created repository using the upload option\n",
    "\n",
    "Step 6: The file uploaded is ensured for public visiblity and the URL of that file is copied from the address bar\n",
    "\n",
    "Step 7: The URL is pasted in the Google form circulated for submitting the assignments "
   ]
  },
  {
   "cell_type": "code",
   "execution_count": null,
   "metadata": {},
   "outputs": [],
   "source": []
  }
 ],
 "metadata": {
  "kernelspec": {
   "display_name": "Python 3",
   "language": "python",
   "name": "python3"
  },
  "language_info": {
   "codemirror_mode": {
    "name": "ipython",
    "version": 3
   },
   "file_extension": ".py",
   "mimetype": "text/x-python",
   "name": "python",
   "nbconvert_exporter": "python",
   "pygments_lexer": "ipython3",
   "version": "3.7.6"
  }
 },
 "nbformat": 4,
 "nbformat_minor": 4
}
